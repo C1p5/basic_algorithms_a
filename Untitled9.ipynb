{
  "nbformat": 4,
  "nbformat_minor": 0,
  "metadata": {
    "colab": {
      "name": "Untitled9.ipynb",
      "provenance": [],
      "authorship_tag": "ABX9TyPmylYzo52lx5mkMTVZZMWv",
      "include_colab_link": true
    },
    "kernelspec": {
      "name": "python3",
      "display_name": "Python 3"
    }
  },
  "cells": [
    {
      "cell_type": "markdown",
      "metadata": {
        "id": "view-in-github",
        "colab_type": "text"
      },
      "source": [
        "<a href=\"https://colab.research.google.com/github/C1p5/basic_algorithms_a/blob/master/Untitled9.ipynb\" target=\"_parent\"><img src=\"https://colab.research.google.com/assets/colab-badge.svg\" alt=\"Open In Colab\"/></a>"
      ]
    },
    {
      "cell_type": "code",
      "metadata": {
        "id": "CGalCIchzPLq",
        "colab_type": "code",
        "colab": {
          "base_uri": "https://localhost:8080/",
          "height": 204
        },
        "outputId": "68ad3b8d-87e3-4e1d-f17f-ff4dd66d5cee"
      },
      "source": [
        "import random\n",
        "guess = int(input(\"入力してください: \"))\n",
        "\n",
        "count=0\n",
        "total=0\n",
        "totalb=0\n",
        "while count < guess:\n",
        "  a = [random.randint(1, 6),random.randint(1, 6),random.randint(1, 6)]\n",
        "  b = [random.randint(1, 6),random.randint(1, 6),random.randint(1, 6)]\n",
        "\n",
        "  print(\"結果a\", count +1, \": \" ,a )\n",
        "  print(\"結果b\", count +1, \": \" ,b )\n",
        "  count +=1\n",
        "\n",
        "  if (a[0] == a[1] == a[2]):\n",
        "    print(\"勝つ\")\n",
        "    break\n",
        "  elif (a[0]>a[1] and a[0]>a[2]):\n",
        "    print(\"最大結果:\",a[0])\n",
        "    total +=a[0]\n",
        "  elif (a[0]<a[1] and a[1]>a[2]):\n",
        "    print(\"最大結果　a:\",a[1])\n",
        "    total +=a[1]\n",
        "  else :\n",
        "    print(\"最大結果:\",a[2])\n",
        "    total +=a[2]\n",
        "  if (b[0] == b[1] == b[2]):\n",
        "    print(\"勝つ\")\n",
        "    break\n",
        "  elif (b[0]>b[1] and b[0]>b[2]):\n",
        "    print(\"最大結果:\",b[0])\n",
        "    totalb +=b[0]\n",
        "  elif (b[0]<b[1] and b[1]>b[2]):\n",
        "    print(\"最大結果　a:\",b[1])\n",
        "    totalb +=b[1]\n",
        "  elif(total>totalb):\n",
        "      print(\"勝つa:\",total)\n",
        "  else :\n",
        "       print(\"勝つb:\",total)\n",
        "print(total)\n",
        "print(totalb)\n",
        "    \n"
      ],
      "execution_count": 33,
      "outputs": [
        {
          "output_type": "stream",
          "text": [
            "入力してください: 2\n",
            "結果a 1 :  [3, 6, 5]\n",
            "結果b 1 :  [1, 1, 3]\n",
            "最大結果　a: 6\n",
            "勝つa: 6\n",
            "結果a 2 :  [4, 5, 3]\n",
            "結果b 2 :  [1, 1, 4]\n",
            "最大結果　a: 5\n",
            "勝つa: 11\n",
            "11\n",
            "0\n"
          ],
          "name": "stdout"
        }
      ]
    }
  ]
}