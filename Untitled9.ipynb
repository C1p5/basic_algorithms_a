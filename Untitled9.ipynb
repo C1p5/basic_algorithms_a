{
  "nbformat": 4,
  "nbformat_minor": 0,
  "metadata": {
    "colab": {
      "name": "Untitled9.ipynb",
      "provenance": [],
      "authorship_tag": "ABX9TyOVpZZRu8xgRgamlXS3Cu/2",
      "include_colab_link": true
    },
    "kernelspec": {
      "name": "python3",
      "display_name": "Python 3"
    }
  },
  "cells": [
    {
      "cell_type": "markdown",
      "metadata": {
        "id": "view-in-github",
        "colab_type": "text"
      },
      "source": [
        "<a href=\"https://colab.research.google.com/github/C1p5/basic_algorithms_a/blob/master/Untitled9.ipynb\" target=\"_parent\"><img src=\"https://colab.research.google.com/assets/colab-badge.svg\" alt=\"Open In Colab\"/></a>"
      ]
    },
    {
      "cell_type": "code",
      "metadata": {
        "id": "CGalCIchzPLq",
        "colab_type": "code",
        "colab": {
          "base_uri": "https://localhost:8080/",
          "height": 272
        },
        "outputId": "8972178d-2633-4cef-853e-fa95cee48d51"
      },
      "source": [
        "import random\n",
        "guess = int(input(\"入力してください: \"))\n",
        "\n",
        "count=0\n",
        "total=0\n",
        "totalb=0\n",
        "while count < guess:\n",
        "  a = [random.randint(1, 6),random.randint(1, 6),random.randint(1, 6)]\n",
        "  b = [random.randint(1, 6),random.randint(1, 6),random.randint(1, 6)]\n",
        "\n",
        "  print(\"ket qua lan thu cua a\", count +1, \": \" ,a )\n",
        "  print(\"ket qua lan thu cua b\", count +1, \": \" ,b )\n",
        "  count +=1\n",
        "\n",
        "  if (a[0] == a[1] == a[2]):\n",
        "    print(\"thang\")\n",
        "    break\n",
        "  elif (a[0]>a[1] and a[0]>a[2]):\n",
        "    print(\"ket qua lon nhat:\",a[0])\n",
        "    total +=a[0]\n",
        "  elif (a[0]<a[1] and a[1]>a[2]):\n",
        "    print(\"ket qua lon nhat:\",a[1])\n",
        "    total +=a[1]\n",
        "  else :\n",
        "    print(\"ket qua lon nhat:\",a[2])\n",
        "    total +=a[2]\n",
        "  if (b[0] == b[1] == b[2]):\n",
        "    print(\"thang\")\n",
        "    break\n",
        "  elif (b[0]>b[1] and b[0]>b[2]):\n",
        "    print(\"ket qua lon nhat:\",b[0])\n",
        "    totalb +=b[0]\n",
        "  elif (b[0]<b[1] and b[1]>b[2]):\n",
        "    print(\"ket qua lon nhat:\",b[1])\n",
        "    totalb +=b[1]\n",
        "  elif(total>totalb):\n",
        "      print(\"a thang:\",total)\n",
        "  else :\n",
        "       print(\"b thang:\",total)\n",
        "print(total)\n",
        "print(totalb)\n",
        "    \n"
      ],
      "execution_count": 29,
      "outputs": [
        {
          "output_type": "stream",
          "text": [
            "入力してください: 3\n",
            "ket qua lan thu cua a 1 :  [1, 1, 6]\n",
            "ket qua lan thu cua b 1 :  [1, 1, 3]\n",
            "ket qua lon nhat: 6\n",
            "a thang: 6\n",
            "ket qua lan thu cua a 2 :  [4, 1, 1]\n",
            "ket qua lan thu cua b 2 :  [2, 1, 3]\n",
            "ket qua lon nhat: 4\n",
            "a thang: 10\n",
            "ket qua lan thu cua a 3 :  [1, 5, 1]\n",
            "ket qua lan thu cua b 3 :  [1, 6, 5]\n",
            "ket qua lon nhat: 5\n",
            "ket qua lon nhat: 6\n",
            "15\n",
            "6\n"
          ],
          "name": "stdout"
        }
      ]
    }
  ]
}