{
  "nbformat": 4,
  "nbformat_minor": 0,
  "metadata": {
    "colab": {
      "name": "fibonacci.ipynb",
      "provenance": [],
      "collapsed_sections": []
    },
    "kernelspec": {
      "name": "python3",
      "display_name": "Python 3"
    }
  },
  "cells": [
    {
      "cell_type": "code",
      "metadata": {
        "id": "9srNoIbwZqRV",
        "colab_type": "code",
        "outputId": "b33d3425-df3a-42b0-c688-801579f58dad",
        "colab": {
          "base_uri": "https://localhost:8080/",
          "height": 102
        }
      },
      "source": [
        "# n番目の項までのフィボナッチ数列を表示するプログラム\n",
        "n = int(input(\"整数を入力してください\"))\n",
        "f1,f2=0,1\n",
        "fn=0\n",
        "count = 0\n",
        "#用語の数が有効かどうかを確認\n",
        "if n < 0:\n",
        "   print(\"正の整数を入力してください\")\n",
        "elif n==0:\n",
        "    print(\"フィボナッチ数列\",\":\")\n",
        "    print (n)\n",
        "elif n == 1:\n",
        "   print(\"フィボナッチ数列\",\":\")\n",
        "   print(n)\n",
        "else:\n",
        "   print(\"フィボナッチ数列:\") \n",
        "   while count < n:\n",
        "       print(f1,count)\n",
        "       fn =f1+f2\n",
        "       f1= f2\n",
        "       f2 = fn\n",
        "       count += 1\n",
        "       "
      ],
      "execution_count": 0,
      "outputs": [
        {
          "output_type": "stream",
          "text": [
            "整数を入力してください3\n",
            "フィボナッチ数列:\n",
            "0 0\n",
            "1 1\n",
            "1 2\n"
          ],
          "name": "stdout"
        }
      ]
    }
  ]
}